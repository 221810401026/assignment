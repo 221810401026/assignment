{
 "cells": [
  {
   "cell_type": "code",
   "execution_count": 25,
   "metadata": {},
   "outputs": [
    {
     "name": "stdout",
     "output_type": "stream",
     "text": [
      "enter a stringkit\n",
      "enter a stringyu\n",
      "k y\n",
      "i u\n",
      "t *\n"
     ]
    }
   ],
   "source": [
    "3. # The program must accept two string values S1 and S2. The program must print the pattern as shown in the \n",
    "\n",
    "#Example Input/Output sections.\n",
    "\n",
    "#Boundary Condition(s):\n",
    "\n",
    "#1 <= Length of S1, S2 <= 100\n",
    "\n",
    "#Example Input/Output 1:\n",
    "\n",
    "#Input:\n",
    "\n",
    "#bad water\n",
    "\n",
    "#Output: bw aa dt *e *r\n",
    "def comb(a,b):\n",
    "    if len(a)<len(b):\n",
    "        n=len(b)\n",
    "    else:\n",
    "        n=len(a)\n",
    "    for i in range(n):\n",
    "        if i not in range(len(a)) and i in range(len(b)):\n",
    "            print(\"*\",b[i])\n",
    "        elif i in range(len(a)) and i not in range(len(b)): \n",
    "            print(a[i],\"*\")\n",
    "        else:\n",
    "            print(a[i],b[i])\n",
    "a=str(input(\"enter a string\"))\n",
    "b=str(input(\"enter a string\"))\n",
    "comb(a,b)"
   ]
  },
  {
   "cell_type": "code",
   "execution_count": 6,
   "metadata": {},
   "outputs": [
    {
     "name": "stdout",
     "output_type": "stream",
     "text": [
      "3 2 1 1 0 "
     ]
    }
   ],
   "source": [
    "1.# The program must accept an integer N as the input. The program must print the fibonacci series in the reverse order as the output.\n",
    "def reversefib(n): \n",
    "    a = [0]*n \n",
    "    a[0] = 0 \n",
    "    a[1] = 1 \n",
    "    for i in range(2, n):\n",
    "        a[i] = a[i - 2] + a[i - 1]  \n",
    "    for i in range(n - 1, -1 , -1):   \n",
    "        print(a[i],end=\" \") \n",
    "    return \n",
    "reversefib(5)"
   ]
  },
  {
   "cell_type": "code",
   "execution_count": 8,
   "metadata": {},
   "outputs": [
    {
     "name": "stdout",
     "output_type": "stream",
     "text": [
      "enter a stringli\n",
      "enter a charil\n",
      "li\n"
     ]
    }
   ],
   "source": [
    "8.# Your Program has to read one string as well as one character and you need to remove the all the occurance of the character.\n",
    "\n",
    "#HebeonTech,e -- HbonTch\n",
    "def delete(n,target):\n",
    "    c=0\n",
    "    for i in range(len(n)):\n",
    "        if n[i]==target:\n",
    "            c+=1\n",
    "    print(n.replace(target,\"\",c))\n",
    "n=str(input(\"enter a string\"))\n",
    "target=str(input(\"enter a char\"))\n",
    "delete(n,target)\n"
   ]
  },
  {
   "cell_type": "code",
   "execution_count": 10,
   "metadata": {},
   "outputs": [
    {
     "name": "stdout",
     "output_type": "stream",
     "text": [
      "enter a string gitam\n",
      "enter a string gitam\n"
     ]
    },
    {
     "data": {
      "text/plain": [
       "'gitamgitam'"
      ]
     },
     "execution_count": 10,
     "metadata": {},
     "output_type": "execute_result"
    }
   ],
   "source": [
    " 9.# Your Program need to accept two strings and generate the output in merging of both strings.\n",
    "def comb(a,b):\n",
    "    c=a+b\n",
    "    return c \n",
    "a=str(input(\"enter a string \"))\n",
    "b=str(input(\"enter a string \"))\n",
    "comb(a,b)"
   ]
  },
  {
   "cell_type": "code",
   "execution_count": 12,
   "metadata": {},
   "outputs": [
    {
     "name": "stdout",
     "output_type": "stream",
     "text": [
      "enter a number3\n",
      "1 3 9 "
     ]
    }
   ],
   "source": [
    " 10.# Series Generations:-  1, 3, 9, 27, 81, ...\n",
    "def square(n):\n",
    "    for i in range(n):\n",
    "        print(3**i,end=\" \")\n",
    "    return\n",
    "n=int(input(\"enter a number\"))\n",
    "square(n)"
   ]
  },
  {
   "cell_type": "code",
   "execution_count": 15,
   "metadata": {},
   "outputs": [
    {
     "name": "stdout",
     "output_type": "stream",
     "text": [
      "enter a number2\n",
      "1 2 "
     ]
    }
   ],
   "source": [
    " 11.# Series Generations:-  1, 2, 4, 8, 16, 32, 64, 128, 256, ...\n",
    "def square(n):\n",
    "    for i in range(n):\n",
    "        print(2**i,end=\" \")\n",
    "    return\n",
    "n=int(input(\"enter a number\"))\n",
    "square(n)"
   ]
  },
  {
   "cell_type": "code",
   "execution_count": 17,
   "metadata": {},
   "outputs": [
    {
     "name": "stdout",
     "output_type": "stream",
     "text": [
      "enter a number4\n",
      "1 3 4 8 "
     ]
    }
   ],
   "source": [
    "13.# Series Generations:-  1 3 4 8 15 27 50 92 169 311\n",
    "def series(n):\n",
    "    a=1\n",
    "    b=3\n",
    "    c=a+b\n",
    "    print(a,b,c,end=\" \")\n",
    "    for i in range (4,n+1):\n",
    "        d=a+b+c\n",
    "        a=b\n",
    "        b=c\n",
    "        c=d\n",
    "        print(d,end=\" \")\n",
    "    return\n",
    "n=int(input(\"enter a number\"))\n",
    "series(n)"
   ]
  },
  {
   "cell_type": "code",
   "execution_count": 20,
   "metadata": {},
   "outputs": [
    {
     "name": "stdout",
     "output_type": "stream",
     "text": [
      "enter n5\n"
     ]
    },
    {
     "data": {
      "text/plain": [
       "153"
      ]
     },
     "execution_count": 20,
     "metadata": {},
     "output_type": "execute_result"
    }
   ],
   "source": [
    "# 14. Series Generations:-  1! + 2! + 3! + 4! + 5! + ... + n!\n",
    "def fact(a):\n",
    "    f=1\n",
    "    for i in range (1,a+1):\n",
    "        f*=i\n",
    "    return f   \n",
    "def series(m):\n",
    "    s=0\n",
    "    for x in range (1,n+1):\n",
    "        s=s+fact(x)\n",
    "    return s\n",
    "n=int(input(\"enter n\"))\n",
    "series(n)"
   ]
  },
  {
   "cell_type": "code",
   "execution_count": 37,
   "metadata": {},
   "outputs": [
    {
     "name": "stdout",
     "output_type": "stream",
     "text": [
      "no of values2\n",
      "5\n",
      "4\n"
     ]
    },
    {
     "data": {
      "text/plain": [
       "9"
      ]
     },
     "execution_count": 37,
     "metadata": {},
     "output_type": "execute_result"
    }
   ],
   "source": [
    "2.# The program must accept N integers as the input. The program must print the sum of non repeated integers as the output. If there is no non repeated integer then the program must print -1 as the output.\n",
    "def Q(n):\n",
    "    a=[]\n",
    "    s=0\n",
    "    for i in range(n):\n",
    "        a.append(int(input()))\n",
    "    for i in range(n):\n",
    "        c=0\n",
    "        for j in range(n):\n",
    "            if i!=j:\n",
    "                if a[i]==a[j]:\n",
    "                    c+=1\n",
    "        if c==0:\n",
    "            s=s+a[i]\n",
    "    return s\n",
    "Q(int(input(\"no of values\")))"
   ]
  },
  {
   "cell_type": "code",
   "execution_count": 52,
   "metadata": {},
   "outputs": [
    {
     "name": "stdout",
     "output_type": "stream",
     "text": [
      "enter str:kiy kiY\n",
      "KIY\n"
     ]
    }
   ],
   "source": [
    "4.# The program must accept a string S as the input. The program print the longest word from the string S as the output. If two or more longest words are of same length then consider the first one.\n",
    "def Q4(a,b):\n",
    "    if len(a)>=len(b):\n",
    "        print(a.upper())\n",
    "    else:\n",
    "        print(b.upper())\n",
    "    return\n",
    "x=str(input(\"enter str:\"))\n",
    "x=x.split()\n",
    "Q4(x[0],x[1])"
   ]
  },
  {
   "cell_type": "code",
   "execution_count": 65,
   "metadata": {},
   "outputs": [
    {
     "name": "stdout",
     "output_type": "stream",
     "text": [
      "2\n",
      "1024\n"
     ]
    }
   ],
   "source": [
    "6.# The program must accept an integer N as the input. The program must print the Nth term in the series as the output.\n",
    "def findNthTerm(n): \n",
    "  if n % 2 == 0: \n",
    "      n //= 2\n",
    "      print(3 ** (n - 1)) \n",
    "  else: \n",
    "      n = (n // 2) + 1\n",
    "      print(2 ** (n - 1)) \n",
    "if __name__=='__main__': \n",
    "  N = 3\n",
    "  findNthTerm(N) \n",
    "  N = 21\n",
    "  findNthTerm(N)"
   ]
  },
  {
   "cell_type": "code",
   "execution_count": 66,
   "metadata": {},
   "outputs": [
    {
     "name": "stdout",
     "output_type": "stream",
     "text": [
      "enter num4\n",
      "****\n"
     ]
    }
   ],
   "source": [
    "7.# The program must accept an integer N the input. The program must print the desired pattern as shown in the Example Input/Output section.\n",
    "def Q7(n):\n",
    "    for i in range(len(n)):\n",
    "        n[i]=int(n[i])\n",
    "    for i in range(len(n)):\n",
    "        for j in range(n[i]):\n",
    "            print(\"*\",end=\"\")\n",
    "        print(\"\")\n",
    "    return\n",
    "x=input(\"enter num\")\n",
    "Q7(list(x))"
   ]
  },
  {
   "cell_type": "code",
   "execution_count": 69,
   "metadata": {},
   "outputs": [
    {
     "name": "stdout",
     "output_type": "stream",
     "text": [
      "enter str:li Ol\n",
      "OL "
     ]
    }
   ],
   "source": [
    "5.1# Your program need to accept a string (alphanuermic) includes white spaces also. The program must print the output in the following way.\n",
    "def Q5_1(a):\n",
    "    a=a.split()\n",
    "    for i in range (len(a)):\n",
    "        if a[i].istitle()==True:\n",
    "            print(a[i].upper(),end= \" \")\n",
    "    return\n",
    "x=str(input(\"enter str:\"))\n",
    "Q5_1(x)"
   ]
  },
  {
   "cell_type": "code",
   "execution_count": 71,
   "metadata": {},
   "outputs": [
    {
     "name": "stdout",
     "output_type": "stream",
     "text": [
      "enter a number4\n",
      "2 15 41 80 132 "
     ]
    }
   ],
   "source": [
    "# 12. Series Generations:-  2 15 41 80 132 197 275 366 470 587\n",
    "def series(n):\n",
    "   a=2\n",
    "   print(a,end=\" \")\n",
    "   for i in range (1,n+1):\n",
    "       b=a+(13*i)\n",
    "       print(b,end=\" \")\n",
    "       a=b\n",
    "   return\n",
    "n=int(input(\"enter a number\"))\n",
    "series(n)"
   ]
  },
  {
   "cell_type": "code",
   "execution_count": 84,
   "metadata": {},
   "outputs": [
    {
     "name": "stdout",
     "output_type": "stream",
     "text": [
      "1 9 17 33 49 73 97 129 161 201 "
     ]
    }
   ],
   "source": [
    "# 15 Series Generations:-  1,9,17, 33,49,73,97\n",
    "import math\n",
    "def seriesgen3(n):\n",
    "    s= 1\n",
    "    i=2\n",
    "    while i<=n+1:\n",
    "        a=math.ceil(i/2)\n",
    "        s=s+8*(a-1)\n",
    "        print(s,end=\" \")\n",
    "        i=i+1\n",
    "    return \n",
    "seriesgen3(10)"
   ]
  },
  {
   "cell_type": "code",
   "execution_count": null,
   "metadata": {},
   "outputs": [],
   "source": []
  }
 ],
 "metadata": {
  "kernelspec": {
   "display_name": "Python 3",
   "language": "python",
   "name": "python3"
  },
  "language_info": {
   "codemirror_mode": {
    "name": "ipython",
    "version": 3
   },
   "file_extension": ".py",
   "mimetype": "text/x-python",
   "name": "python",
   "nbconvert_exporter": "python",
   "pygments_lexer": "ipython3",
   "version": "3.7.3"
  }
 },
 "nbformat": 4,
 "nbformat_minor": 2
}
